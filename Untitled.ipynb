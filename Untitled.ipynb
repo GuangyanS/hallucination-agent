{
 "cells": [
  {
   "cell_type": "code",
   "execution_count": 1,
   "id": "eaf40f3a-bd18-484a-a9de-decc5cd9b02c",
   "metadata": {},
   "outputs": [
    {
     "name": "stderr",
     "output_type": "stream",
     "text": [
      "/opt/conda/lib/python3.10/site-packages/tqdm/auto.py:21: TqdmWarning: IProgress not found. Please update jupyter and ipywidgets. See https://ipywidgets.readthedocs.io/en/stable/user_install.html\n",
      "  from .autonotebook import tqdm as notebook_tqdm\n",
      "Special tokens have been added in the vocabulary, make sure the associated word embeddings are fine-tuned or trained.\n"
     ]
    }
   ],
   "source": [
    "import pickle\n",
    "from transformers import AutoTokenizer\n",
    "import numpy as np\n",
    "tokenizer = AutoTokenizer.from_pretrained(\"/wudi/gysun/init_weights/Qwen2-0.5B\")\n",
    "data = pickle.load(open(\"/wudi/gysun/projs/LLaMA-Estate/predictions_data_200.pkl\", 'rb'))"
   ]
  },
  {
   "cell_type": "code",
   "execution_count": 2,
   "id": "36ace0be-9724-4fdb-a0f2-80a4dd04c20e",
   "metadata": {},
   "outputs": [
    {
     "data": {
      "text/plain": [
       "('4\\t\\tAppartement PARIS 16EME ARRONDISSEMENT 75016 | Bonapart\\n\\t\\ntype: appartement\\nprice: 1000\\ncity: paris 16eme\\npostal_code: 75016\\nh_surface: 23\\nl_surface: 0\\nn_rooms: 1\\nn_beds: 1',\n",
       " 'title: \\t\\t\\tAppartement PARIS 16EME ARRONDISSEMENT 75016 | Bonapart\\n\\t\\ntype: appartement\\nprice: 800\\ncity: paris 16eme\\npostal_code: 75016\\nh_surface: 10\\nl_surface: 0\\nn_rooms: 1\\nn_beds: 1')"
      ]
     },
     "execution_count": 2,
     "metadata": {},
     "output_type": "execute_result"
    }
   ],
   "source": [
    "index = 1\n",
    "data[index]['output'], data[index]['gt']"
   ]
  },
  {
   "cell_type": "code",
   "execution_count": 64,
   "id": "6d3b8f8c-6a33-454a-a4d3-a1bce4804e27",
   "metadata": {},
   "outputs": [
    {
     "data": {
      "text/plain": [
       "'17 a 20 ca\\ntype: land\\nprice: 9000\\ncity: soulac\\npostal_code: 33780\\nh_surface: 0\\nl_surface: 1700\\nn_rooms: 0\\nn_beds: 0'"
      ]
     },
     "execution_count": 64,
     "metadata": {},
     "output_type": "execute_result"
    }
   ],
   "source": [
    "data[index]['output']"
   ]
  },
  {
   "cell_type": "code",
   "execution_count": 65,
   "id": "e19b970b-a9db-4525-ba5c-e8a65967b26a",
   "metadata": {},
   "outputs": [
    {
     "name": "stdout",
     "output_type": "stream",
     "text": [
      "[362, 28640, 261, 350, 17, 752, 392, 68228, 83771, 1062, 12559, 409, 308, 15477, 198, 1313, 25, 73656, 1114, 198, 6555, 25, 220, 21, 24, 15, 198, 8926, 25, 308, 15477, 198, 33170, 4136, 25, 220, 19, 19, 15, 15, 15, 198, 71, 31030, 25, 220, 19, 23, 198, 75, 31030, 25, 220, 15, 198, 77, 76037, 25, 220, 17, 198, 77, 880, 6767, 25, 220, 16]\n"
     ]
    }
   ],
   "source": [
    "print(generated_tokens)"
   ]
  },
  {
   "cell_type": "code",
   "execution_count": 69,
   "id": "af61819d-d709-4e63-8bc1-b82c1cef0756",
   "metadata": {},
   "outputs": [
    {
     "data": {
      "text/plain": [
       "'17 a 20 ca\\ntype: land\\nprice: 9000\\ncity: soulac\\npostal_code: 33780\\nh_surface: 0\\nl_surface: 1700\\nn_rooms: 0\\nn_beds: 0'"
      ]
     },
     "execution_count": 69,
     "metadata": {},
     "output_type": "execute_result"
    }
   ],
   "source": [
    "tokenizer.decode(generated_tokens)"
   ]
  },
  {
   "cell_type": "code",
   "execution_count": 3,
   "id": "10131375-0c41-463a-b78f-c14232a2c705",
   "metadata": {},
   "outputs": [
    {
     "name": "stdout",
     "output_type": "stream",
     "text": [
      "|    19 | 4        | -1.167 | 31.14%\n",
      "|   197 | \t        | -2.296 | 10.07%\n",
      "| 59557 | \tApp     | -1.069 | 34.32%\n",
      "|   471 | art      | -0.000 | 99.99%\n",
      "|  1114 | ement    | -0.000 | 99.99%\n",
      "| 26081 |  PAR     | -0.061 | 94.05%\n",
      "|  1637 | IS       | -0.000 | 99.99%\n",
      "|   220 |          | -0.011 | 98.95%\n",
      "|    16 | 1        | -0.247 | 78.09%\n",
      "|    21 | 6        | -0.161 | 85.16%\n",
      "|  2716 | EM       | -0.014 | 98.57%\n",
      "|    36 | E        | -0.001 | 99.89%\n",
      "|  6261 |  AR      | -0.021 | 97.95%\n",
      "| 41714 | RON      | -0.005 | 99.52%\n",
      "| 21202 | DIS      | -0.001 | 99.92%\n",
      "|   925 | SE       | -0.005 | 99.52%\n",
      "|  5328 | MENT     | -0.000 | 99.97%\n",
      "|   220 |          | -0.002 | 99.83%\n",
      "|    22 | 7        | -0.036 | 96.49%\n",
      "|    20 | 5        | -0.016 | 98.42%\n",
      "|    15 | 0        | -0.011 | 98.93%\n",
      "|    16 | 1        | -0.036 | 96.46%\n",
      "|    21 | 6        | -0.026 | 97.40%\n",
      "|   760 |  |       | -0.019 | 98.07%\n",
      "| 13481 |  Bon     | -0.010 | 99.04%\n",
      "|   391 | ap       | -0.003 | 99.73%\n",
      "|   471 | art      | -0.000 | 99.98%\n",
      "| 17642 | \n",
      "\t\n",
      "      | -0.049 | 95.24%\n",
      "|  1313 | type     | -0.063 | 93.91%\n",
      "|    25 | :        | -0.000 | 100.00%\n",
      "| 73656 |  appart  | -0.105 | 90.07%\n",
      "|  1114 | ement    | -0.000 | 99.98%\n",
      "|   198 | \n",
      "        | -0.015 | 98.55%\n",
      "|  6555 | price    | -0.010 | 98.97%\n",
      "|    25 | :        | -0.000 | 100.00%\n",
      "|   220 |          | -0.045 | 95.60%\n",
      "|    16 | 1        | -0.906 | 40.41%\n",
      "|    15 | 0        | -1.591 | 20.37%\n",
      "|    15 | 0        | -1.358 | 25.73%\n",
      "|    15 | 0        | -0.116 | 89.08%\n",
      "|   198 | \n",
      "        | -0.165 | 84.76%\n",
      "|  8926 | city     | -0.001 | 99.87%\n",
      "|    25 | :        | -0.000 | 100.00%\n",
      "| 40858 |  paris   | -0.176 | 83.82%\n",
      "|   220 |          | -0.138 | 87.11%\n",
      "|    16 | 1        | -0.072 | 93.05%\n",
      "|    21 | 6        | -0.115 | 89.14%\n",
      "|  3894 | eme      | -0.026 | 97.42%\n",
      "|   198 | \n",
      "        | -0.003 | 99.70%\n",
      "| 33170 | postal   | -0.000 | 99.99%\n",
      "|  4136 | _code    | -0.000 | 99.98%\n",
      "|    25 | :        | -0.000 | 100.00%\n",
      "|   220 |          | -0.016 | 98.39%\n",
      "|    22 | 7        | -0.002 | 99.77%\n",
      "|    20 | 5        | -0.000 | 99.98%\n",
      "|    15 | 0        | -0.000 | 99.96%\n",
      "|    16 | 1        | -0.002 | 99.79%\n",
      "|    21 | 6        | -0.001 | 99.85%\n",
      "|   198 | \n",
      "        | -0.000 | 100.00%\n",
      "|    71 | h        | -0.000 | 99.96%\n",
      "| 31030 | _surface | -0.000 | 99.96%\n",
      "|    25 | :        | -0.000 | 100.00%\n",
      "|   220 |          | -0.044 | 95.68%\n",
      "|    17 | 2        | -1.271 | 28.05%\n",
      "|    18 | 3        | -1.120 | 32.62%\n",
      "|   198 | \n",
      "        | -0.003 | 99.69%\n",
      "|    75 | l        | -0.000 | 99.97%\n",
      "| 31030 | _surface | -0.000 | 99.99%\n",
      "|    25 | :        | -0.000 | 100.00%\n",
      "|   220 |          | -0.000 | 99.97%\n",
      "|    15 | 0        | -0.002 | 99.81%\n",
      "|   198 | \n",
      "        | -0.000 | 100.00%\n",
      "|    77 | n        | -0.000 | 100.00%\n",
      "| 76037 | _rooms   | -0.000 | 100.00%\n",
      "|    25 | :        | 0.000 | 100.00%\n",
      "|   220 |          | -0.327 | 72.14%\n",
      "|    16 | 1        | -0.243 | 78.41%\n",
      "|   198 | \n",
      "        | -0.005 | 99.54%\n",
      "|    77 | n        | -0.000 | 100.00%\n",
      "|   880 | _b       | -0.000 | 99.99%\n",
      "|  6767 | eds      | -0.000 | 100.00%\n",
      "|    25 | :        | -0.000 | 100.00%\n",
      "|   220 |          | -0.001 | 99.90%\n",
      "|    16 | 1        | -0.033 | 96.80%\n"
     ]
    }
   ],
   "source": [
    "generated_tokens = tokenizer(data[index]['output'])['input_ids']\n",
    "for tok, score in zip(generated_tokens, data[index]['log_likelihoods']):\n",
    "    # | token | token string | log probability | probability\n",
    "    print(f\"| {tok:5d} | {tokenizer.decode(tok):8s} | {score:.3f} | {np.exp(score):.2%}\")"
   ]
  },
  {
   "cell_type": "code",
   "execution_count": 13,
   "id": "d027e0c6-c8c3-40f3-b6f4-bfb8ea86c8d9",
   "metadata": {},
   "outputs": [
    {
     "data": {
      "text/plain": [
       "[28640,\n",
       " 261,\n",
       " 350,\n",
       " 17,\n",
       " 752,\n",
       " 392,\n",
       " 68228,\n",
       " 83771,\n",
       " 1062,\n",
       " 12559,\n",
       " 409,\n",
       " 308,\n",
       " 15477,\n",
       " 198,\n",
       " 1313,\n",
       " 25,\n",
       " 73656,\n",
       " 1114,\n",
       " 198,\n",
       " 6555,\n",
       " 25,\n",
       " 220,\n",
       " 21,\n",
       " 24,\n",
       " 15,\n",
       " 198,\n",
       " 8926,\n",
       " 25,\n",
       " 308,\n",
       " 15477,\n",
       " 198,\n",
       " 33170,\n",
       " 4136,\n",
       " 25,\n",
       " 220,\n",
       " 19,\n",
       " 19,\n",
       " 15,\n",
       " 15,\n",
       " 15,\n",
       " 198,\n",
       " 71,\n",
       " 31030,\n",
       " 25,\n",
       " 220,\n",
       " 19,\n",
       " 23,\n",
       " 198,\n",
       " 75,\n",
       " 31030,\n",
       " 25,\n",
       " 220,\n",
       " 15,\n",
       " 198,\n",
       " 77,\n",
       " 76037,\n",
       " 25,\n",
       " 220,\n",
       " 17,\n",
       " 198,\n",
       " 77,\n",
       " 880,\n",
       " 6767,\n",
       " 25,\n",
       " 220,\n",
       " 16]"
      ]
     },
     "execution_count": 13,
     "metadata": {},
     "output_type": "execute_result"
    }
   ],
   "source": [
    "generated_tokens"
   ]
  }
 ],
 "metadata": {
  "kernelspec": {
   "display_name": "Python 3 (ipykernel)",
   "language": "python",
   "name": "python3"
  },
  "language_info": {
   "codemirror_mode": {
    "name": "ipython",
    "version": 3
   },
   "file_extension": ".py",
   "mimetype": "text/x-python",
   "name": "python",
   "nbconvert_exporter": "python",
   "pygments_lexer": "ipython3",
   "version": "3.10.13"
  }
 },
 "nbformat": 4,
 "nbformat_minor": 5
}
