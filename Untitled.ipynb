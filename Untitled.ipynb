{
 "cells": [
  {
   "cell_type": "code",
   "execution_count": 1,
   "id": "eaf40f3a-bd18-484a-a9de-decc5cd9b02c",
   "metadata": {},
   "outputs": [
    {
     "name": "stderr",
     "output_type": "stream",
     "text": [
      "Special tokens have been added in the vocabulary, make sure the associated word embeddings are fine-tuned or trained.\n"
     ]
    }
   ],
   "source": [
    "import pickle\n",
    "from transformers import AutoTokenizer\n",
    "import numpy as np\n",
    "tokenizer = AutoTokenizer.from_pretrained(\"/wudi/gysun/init_weights/Qwen2-0.5B\")\n",
    "data = pickle.load(open(\"experiment/macgyver_20.pkl\", 'rb'))"
   ]
  },
  {
   "cell_type": "code",
   "execution_count": 4,
   "id": "ce039a0b-92a9-44fc-b605-59733b00a5c6",
   "metadata": {},
   "outputs": [
    {
     "data": {
      "text/plain": [
       "dict_keys(['question', 'gold_ans', 'rationale', 'token_log_likelihoods', 'post_explaination', 'pred_ans', 'wrap_que', 'correct'])"
      ]
     },
     "execution_count": 4,
     "metadata": {},
     "output_type": "execute_result"
    }
   ],
   "source": [
    "data[0].keys()"
   ]
  },
  {
   "cell_type": "code",
   "execution_count": 10,
   "id": "0340eee9-24a5-43ff-bb24-f3c914febf07",
   "metadata": {},
   "outputs": [
    {
     "name": "stdout",
     "output_type": "stream",
     "text": [
      "Here's a creative solution:\n",
      "\n",
      "Step 1: Use the luggage rack to elevate the bedside lamp, increasing its height and allowing it to broadcast the WiFi signal further. (Luggage rack)\n",
      "\n",
      "Step 2: Place the pierced tin can on the lamp, creating a makeshift antenna to direct the signal towards the water bottle, which will act as a reflective surface. (Pierced tin can, Bedside lamp)\n",
      "\n",
      "Step 3: Wrap the aluminum foil around the water bottle to create a conductive surface, amplifying the signal. (Aluminum foil)\n",
      "\n",
      "This makeshift setup should improve the WiFi signal, allowing you to have your important video call.\n"
     ]
    }
   ],
   "source": [
    "print(data[0]['rationale'])"
   ]
  },
  {
   "cell_type": "code",
   "execution_count": 11,
   "id": "25ada88b-f3b7-4484-a9c9-b5783ebeaea4",
   "metadata": {},
   "outputs": [
    {
     "name": "stdout",
     "output_type": "stream",
     "text": [
      "I'm thrilled to share my creative solution with you!\n",
      "\n",
      "**Step 1: Elevate the Lamp**\n",
      "We start by using the luggage rack to elevate the bedside lamp. This increases the lamp's height, allowing it to broadcast the WiFi signal further. Think of it like a makeshift tower, amplifying the signal's range. By placing the lamp on the luggage rack, we're essentially giving it a better view (or should I say, a better broadcast range?) to reach more areas.\n",
      "\n",
      "**Step 2: Create a DIY Antenna**\n",
      "Next, we place the pierced tin can on the lamp. This might seem unusual, but trust me, it's a clever hack! The tin can acts as a makeshift antenna, directing the signal towards the water bottle. Think of it like a satellite dish, focusing the signal towards a specific point. The lamp's light will reflect off the tin can, creating a makeshift directional antenna.\n",
      "\n",
      "**Step 3: Amplify the Signal**\n",
      "Now, we wrap the aluminum foil around the water bottle. Aluminum foil is a great conductor of electricity, so we're essentially creating a conductive surface that can amplify the signal. As the signal hits the foil, it'll bounce back and amplify, much like a mirror reflects light. This amplification will help strengthen the WiFi signal, making it more reliable and consistent.\n",
      "\n",
      "**Putting it all together**\n",
      "By combining these three steps, we've created a makeshift WiFi booster using only the available tools. The elevated lamp broadcasts the signal, the tin can antenna directs it towards the water bottle, and the aluminum foil amplifies the signal. Voilà! You now have a creative solution to boost your WiFi signal and make that important video call.\n",
      "\n",
      "Of course, this setup might not be as effective as a commercial WiFi booster, but it's a creative, feasible, and resourceful solution given the constraints.\n"
     ]
    }
   ],
   "source": [
    "print(data[0]['post_explaination'])"
   ]
  },
  {
   "cell_type": "code",
   "execution_count": 2,
   "id": "ca5ca6b5-372f-49ad-a694-860bfebbe6b0",
   "metadata": {
    "scrolled": true
   },
   "outputs": [
    {
     "name": "stderr",
     "output_type": "stream",
     "text": [
      "                                                                            \r"
     ]
    },
    {
     "name": "stdout",
     "output_type": "stream",
     "text": [
      "[WARNING] gemm_config.in is not found; using default GEMM algo\n"
     ]
    }
   ],
   "source": [
    "from lmdeploy import pipeline, GenerationConfig, TurbomindEngineConfig, ChatTemplateConfig\n",
    "\n",
    "backend_config = TurbomindEngineConfig(model_name=\"internlm2-chat-7b\", tp=1)\n",
    "pipe = pipeline(\"/wudi/gysun/init_weights/anah-v2\",\n",
    "                 chat_template_config=ChatTemplateConfig(model_name='internlm2-chat-7b'), \n",
    "                 backend_config=backend_config)\n",
    "\n",
    "template = \"\"\"\n",
    "You will act as a ’Hallucination’ annotator. I will provide you with a question, a partial answer to that question,\n",
    "and related reference points. You need to determine whether the provided answer contains any hallucinatory\n",
    "content and annotate the type of hallucination.\n",
    "’Hallucination’ refers to content that contradicts the reference points or is unsupported by them.\n",
    "## Judgment Criteria:\n",
    "1. No Hallucination: If the answer is completely consistent with the reference points and does not introduce any\n",
    "contradictory information, output: <No Hallucination>.\n",
    "2. Contradiction: If the answer clearly contradicts the reference points, output: <Contradictory>.\n",
    "3. Unverifiable: If the answer contains information not mentioned in the reference points and cannot be supported\n",
    "or verified by them, output: <Unverifiable>.\n",
    "## Task Process:\n",
    "1. Carefully read the question, which is as follows: {question}\n",
    "2. Carefully read the partial answer, which is as follows: {annotation}\n",
    "3. Carefully read the reference points, which are as follows: Gold Answer: {reference}\n",
    "4. Conduct the analysis: Based on the above judgment criteria, determine if the answer contains hallucinations\n",
    "and output the type of hallucination.\n",
    "\"\"\""
   ]
  },
  {
   "cell_type": "code",
   "execution_count": 4,
   "id": "26298d7e-f2a6-4424-8063-cb0202c67014",
   "metadata": {},
   "outputs": [
    {
     "data": {
      "text/plain": [
       "dict_keys(['question', 'gold_ans', 'rationale', 'token_log_likelihoods', 'pred_ans', 'wrap_que', 'correct'])"
      ]
     },
     "execution_count": 4,
     "metadata": {},
     "output_type": "execute_result"
    }
   ],
   "source": [
    "data[0].keys()"
   ]
  },
  {
   "cell_type": "code",
   "execution_count": 3,
   "id": "d6fb05ae-62ab-4997-a759-e605fba33d47",
   "metadata": {},
   "outputs": [
    {
     "ename": "RuntimeError",
     "evalue": "This event loop is already running",
     "output_type": "error",
     "traceback": [
      "\u001b[0;31m---------------------------------------------------------------------------\u001b[0m",
      "\u001b[0;31mRuntimeError\u001b[0m                              Traceback (most recent call last)",
      "Cell \u001b[0;32mIn[3], line 3\u001b[0m\n\u001b[1;32m      1\u001b[0m index \u001b[38;5;241m=\u001b[39m \u001b[38;5;241m0\u001b[39m\n\u001b[1;32m      2\u001b[0m filled_template \u001b[38;5;241m=\u001b[39m template\u001b[38;5;241m.\u001b[39mformat(question\u001b[38;5;241m=\u001b[39mdata[index][\u001b[38;5;124m'\u001b[39m\u001b[38;5;124mquestion\u001b[39m\u001b[38;5;124m'\u001b[39m], annotation\u001b[38;5;241m=\u001b[39mdata[index][\u001b[38;5;124m'\u001b[39m\u001b[38;5;124mrationale\u001b[39m\u001b[38;5;124m'\u001b[39m], reference\u001b[38;5;241m=\u001b[39mdata[index][\u001b[38;5;124m'\u001b[39m\u001b[38;5;124mgold_ans\u001b[39m\u001b[38;5;124m'\u001b[39m])\n\u001b[0;32m----> 3\u001b[0m response \u001b[38;5;241m=\u001b[39m \u001b[43mpipe\u001b[49m\u001b[43m(\u001b[49m\u001b[43m[\u001b[49m\u001b[43mfilled_template\u001b[49m\u001b[43m]\u001b[49m\u001b[43m)\u001b[49m\n\u001b[1;32m      4\u001b[0m \u001b[38;5;28mprint\u001b[39m(response)\n",
      "File \u001b[0;32m/opt/conda/lib/python3.10/site-packages/lmdeploy/serve/async_engine.py:304\u001b[0m, in \u001b[0;36mAsyncEngine.__call__\u001b[0;34m(self, prompts, gen_config, request_output_len, top_k, top_p, temperature, repetition_penalty, ignore_eos, do_preprocess, adapter_name, use_tqdm, **kwargs)\u001b[0m\n\u001b[1;32m    296\u001b[0m \u001b[38;5;28;01mif\u001b[39;00m gen_config \u001b[38;5;129;01mis\u001b[39;00m \u001b[38;5;28;01mNone\u001b[39;00m:\n\u001b[1;32m    297\u001b[0m     gen_config \u001b[38;5;241m=\u001b[39m GenerationConfig(\n\u001b[1;32m    298\u001b[0m         max_new_tokens\u001b[38;5;241m=\u001b[39mrequest_output_len,\n\u001b[1;32m    299\u001b[0m         top_k\u001b[38;5;241m=\u001b[39mtop_k,\n\u001b[0;32m   (...)\u001b[0m\n\u001b[1;32m    302\u001b[0m         repetition_penalty\u001b[38;5;241m=\u001b[39mrepetition_penalty,\n\u001b[1;32m    303\u001b[0m         ignore_eos\u001b[38;5;241m=\u001b[39mignore_eos)\n\u001b[0;32m--> 304\u001b[0m \u001b[38;5;28;01mreturn\u001b[39;00m \u001b[38;5;28;43mself\u001b[39;49m\u001b[38;5;241;43m.\u001b[39;49m\u001b[43mbatch_infer\u001b[49m\u001b[43m(\u001b[49m\u001b[43mprompts\u001b[49m\u001b[43m,\u001b[49m\n\u001b[1;32m    305\u001b[0m \u001b[43m                        \u001b[49m\u001b[43mgen_config\u001b[49m\u001b[38;5;241;43m=\u001b[39;49m\u001b[43mgen_config\u001b[49m\u001b[43m,\u001b[49m\n\u001b[1;32m    306\u001b[0m \u001b[43m                        \u001b[49m\u001b[43mdo_preprocess\u001b[49m\u001b[38;5;241;43m=\u001b[39;49m\u001b[43mdo_preprocess\u001b[49m\u001b[43m,\u001b[49m\n\u001b[1;32m    307\u001b[0m \u001b[43m                        \u001b[49m\u001b[43madapter_name\u001b[49m\u001b[38;5;241;43m=\u001b[39;49m\u001b[43madapter_name\u001b[49m\u001b[43m,\u001b[49m\n\u001b[1;32m    308\u001b[0m \u001b[43m                        \u001b[49m\u001b[43muse_tqdm\u001b[49m\u001b[38;5;241;43m=\u001b[39;49m\u001b[43muse_tqdm\u001b[49m\u001b[43m,\u001b[49m\n\u001b[1;32m    309\u001b[0m \u001b[43m                        \u001b[49m\u001b[38;5;241;43m*\u001b[39;49m\u001b[38;5;241;43m*\u001b[39;49m\u001b[43mkwargs\u001b[49m\u001b[43m)\u001b[49m\n",
      "File \u001b[0;32m/opt/conda/lib/python3.10/site-packages/lmdeploy/serve/async_engine.py:428\u001b[0m, in \u001b[0;36mAsyncEngine.batch_infer\u001b[0;34m(self, prompts, gen_config, do_preprocess, adapter_name, use_tqdm, **kwargs)\u001b[0m\n\u001b[1;32m    424\u001b[0m \u001b[38;5;28;01masync\u001b[39;00m \u001b[38;5;28;01mdef\u001b[39;00m \u001b[38;5;21mgather\u001b[39m():\n\u001b[1;32m    425\u001b[0m     \u001b[38;5;28;01mawait\u001b[39;00m asyncio\u001b[38;5;241m.\u001b[39mgather(\n\u001b[1;32m    426\u001b[0m         \u001b[38;5;241m*\u001b[39m[_inner_call(i, generators[i]) \u001b[38;5;28;01mfor\u001b[39;00m i \u001b[38;5;129;01min\u001b[39;00m \u001b[38;5;28mrange\u001b[39m(\u001b[38;5;28mlen\u001b[39m(prompts))])\n\u001b[0;32m--> 428\u001b[0m \u001b[43m_get_event_loop\u001b[49m\u001b[43m(\u001b[49m\u001b[43m)\u001b[49m\u001b[38;5;241;43m.\u001b[39;49m\u001b[43mrun_until_complete\u001b[49m\u001b[43m(\u001b[49m\u001b[43mgather\u001b[49m\u001b[43m(\u001b[49m\u001b[43m)\u001b[49m\u001b[43m)\u001b[49m\n\u001b[1;32m    429\u001b[0m outputs \u001b[38;5;241m=\u001b[39m outputs[\u001b[38;5;241m0\u001b[39m] \u001b[38;5;28;01mif\u001b[39;00m need_list_wrap \u001b[38;5;28;01melse\u001b[39;00m outputs\n\u001b[1;32m    430\u001b[0m \u001b[38;5;28;01mreturn\u001b[39;00m outputs\n",
      "File \u001b[0;32m/opt/conda/lib/python3.10/asyncio/base_events.py:625\u001b[0m, in \u001b[0;36mBaseEventLoop.run_until_complete\u001b[0;34m(self, future)\u001b[0m\n\u001b[1;32m    614\u001b[0m \u001b[38;5;250m\u001b[39m\u001b[38;5;124;03m\"\"\"Run until the Future is done.\u001b[39;00m\n\u001b[1;32m    615\u001b[0m \n\u001b[1;32m    616\u001b[0m \u001b[38;5;124;03mIf the argument is a coroutine, it is wrapped in a Task.\u001b[39;00m\n\u001b[0;32m   (...)\u001b[0m\n\u001b[1;32m    622\u001b[0m \u001b[38;5;124;03mReturn the Future's result, or raise its exception.\u001b[39;00m\n\u001b[1;32m    623\u001b[0m \u001b[38;5;124;03m\"\"\"\u001b[39;00m\n\u001b[1;32m    624\u001b[0m \u001b[38;5;28mself\u001b[39m\u001b[38;5;241m.\u001b[39m_check_closed()\n\u001b[0;32m--> 625\u001b[0m \u001b[38;5;28;43mself\u001b[39;49m\u001b[38;5;241;43m.\u001b[39;49m\u001b[43m_check_running\u001b[49m\u001b[43m(\u001b[49m\u001b[43m)\u001b[49m\n\u001b[1;32m    627\u001b[0m new_task \u001b[38;5;241m=\u001b[39m \u001b[38;5;129;01mnot\u001b[39;00m futures\u001b[38;5;241m.\u001b[39misfuture(future)\n\u001b[1;32m    628\u001b[0m future \u001b[38;5;241m=\u001b[39m tasks\u001b[38;5;241m.\u001b[39mensure_future(future, loop\u001b[38;5;241m=\u001b[39m\u001b[38;5;28mself\u001b[39m)\n",
      "File \u001b[0;32m/opt/conda/lib/python3.10/asyncio/base_events.py:584\u001b[0m, in \u001b[0;36mBaseEventLoop._check_running\u001b[0;34m(self)\u001b[0m\n\u001b[1;32m    582\u001b[0m \u001b[38;5;28;01mdef\u001b[39;00m \u001b[38;5;21m_check_running\u001b[39m(\u001b[38;5;28mself\u001b[39m):\n\u001b[1;32m    583\u001b[0m     \u001b[38;5;28;01mif\u001b[39;00m \u001b[38;5;28mself\u001b[39m\u001b[38;5;241m.\u001b[39mis_running():\n\u001b[0;32m--> 584\u001b[0m         \u001b[38;5;28;01mraise\u001b[39;00m \u001b[38;5;167;01mRuntimeError\u001b[39;00m(\u001b[38;5;124m'\u001b[39m\u001b[38;5;124mThis event loop is already running\u001b[39m\u001b[38;5;124m'\u001b[39m)\n\u001b[1;32m    585\u001b[0m     \u001b[38;5;28;01mif\u001b[39;00m events\u001b[38;5;241m.\u001b[39m_get_running_loop() \u001b[38;5;129;01mis\u001b[39;00m \u001b[38;5;129;01mnot\u001b[39;00m \u001b[38;5;28;01mNone\u001b[39;00m:\n\u001b[1;32m    586\u001b[0m         \u001b[38;5;28;01mraise\u001b[39;00m \u001b[38;5;167;01mRuntimeError\u001b[39;00m(\n\u001b[1;32m    587\u001b[0m             \u001b[38;5;124m'\u001b[39m\u001b[38;5;124mCannot run the event loop while another loop is running\u001b[39m\u001b[38;5;124m'\u001b[39m)\n",
      "\u001b[0;31mRuntimeError\u001b[0m: This event loop is already running"
     ]
    }
   ],
   "source": [
    "index = 0\n",
    "filled_template = template.format(question=data[index]['question'], annotation=data[index]['rationale'], reference=data[index]['gold_ans'])\n",
    "response = pipe([filled_template])\n",
    "print(response)"
   ]
  },
  {
   "cell_type": "code",
   "execution_count": 3,
   "id": "10131375-0c41-463a-b78f-c14232a2c705",
   "metadata": {},
   "outputs": [
    {
     "name": "stdout",
     "output_type": "stream",
     "text": [
      "|    19 | 4        | -1.167 | 31.14%\n",
      "|   197 | \t        | -2.296 | 10.07%\n",
      "| 59557 | \tApp     | -1.069 | 34.32%\n",
      "|   471 | art      | -0.000 | 99.99%\n",
      "|  1114 | ement    | -0.000 | 99.99%\n",
      "| 26081 |  PAR     | -0.061 | 94.05%\n",
      "|  1637 | IS       | -0.000 | 99.99%\n",
      "|   220 |          | -0.011 | 98.95%\n",
      "|    16 | 1        | -0.247 | 78.09%\n",
      "|    21 | 6        | -0.161 | 85.16%\n",
      "|  2716 | EM       | -0.014 | 98.57%\n",
      "|    36 | E        | -0.001 | 99.89%\n",
      "|  6261 |  AR      | -0.021 | 97.95%\n",
      "| 41714 | RON      | -0.005 | 99.52%\n",
      "| 21202 | DIS      | -0.001 | 99.92%\n",
      "|   925 | SE       | -0.005 | 99.52%\n",
      "|  5328 | MENT     | -0.000 | 99.97%\n",
      "|   220 |          | -0.002 | 99.83%\n",
      "|    22 | 7        | -0.036 | 96.49%\n",
      "|    20 | 5        | -0.016 | 98.42%\n",
      "|    15 | 0        | -0.011 | 98.93%\n",
      "|    16 | 1        | -0.036 | 96.46%\n",
      "|    21 | 6        | -0.026 | 97.40%\n",
      "|   760 |  |       | -0.019 | 98.07%\n",
      "| 13481 |  Bon     | -0.010 | 99.04%\n",
      "|   391 | ap       | -0.003 | 99.73%\n",
      "|   471 | art      | -0.000 | 99.98%\n",
      "| 17642 | \n",
      "\t\n",
      "      | -0.049 | 95.24%\n",
      "|  1313 | type     | -0.063 | 93.91%\n",
      "|    25 | :        | -0.000 | 100.00%\n",
      "| 73656 |  appart  | -0.105 | 90.07%\n",
      "|  1114 | ement    | -0.000 | 99.98%\n",
      "|   198 | \n",
      "        | -0.015 | 98.55%\n",
      "|  6555 | price    | -0.010 | 98.97%\n",
      "|    25 | :        | -0.000 | 100.00%\n",
      "|   220 |          | -0.045 | 95.60%\n",
      "|    16 | 1        | -0.906 | 40.41%\n",
      "|    15 | 0        | -1.591 | 20.37%\n",
      "|    15 | 0        | -1.358 | 25.73%\n",
      "|    15 | 0        | -0.116 | 89.08%\n",
      "|   198 | \n",
      "        | -0.165 | 84.76%\n",
      "|  8926 | city     | -0.001 | 99.87%\n",
      "|    25 | :        | -0.000 | 100.00%\n",
      "| 40858 |  paris   | -0.176 | 83.82%\n",
      "|   220 |          | -0.138 | 87.11%\n",
      "|    16 | 1        | -0.072 | 93.05%\n",
      "|    21 | 6        | -0.115 | 89.14%\n",
      "|  3894 | eme      | -0.026 | 97.42%\n",
      "|   198 | \n",
      "        | -0.003 | 99.70%\n",
      "| 33170 | postal   | -0.000 | 99.99%\n",
      "|  4136 | _code    | -0.000 | 99.98%\n",
      "|    25 | :        | -0.000 | 100.00%\n",
      "|   220 |          | -0.016 | 98.39%\n",
      "|    22 | 7        | -0.002 | 99.77%\n",
      "|    20 | 5        | -0.000 | 99.98%\n",
      "|    15 | 0        | -0.000 | 99.96%\n",
      "|    16 | 1        | -0.002 | 99.79%\n",
      "|    21 | 6        | -0.001 | 99.85%\n",
      "|   198 | \n",
      "        | -0.000 | 100.00%\n",
      "|    71 | h        | -0.000 | 99.96%\n",
      "| 31030 | _surface | -0.000 | 99.96%\n",
      "|    25 | :        | -0.000 | 100.00%\n",
      "|   220 |          | -0.044 | 95.68%\n",
      "|    17 | 2        | -1.271 | 28.05%\n",
      "|    18 | 3        | -1.120 | 32.62%\n",
      "|   198 | \n",
      "        | -0.003 | 99.69%\n",
      "|    75 | l        | -0.000 | 99.97%\n",
      "| 31030 | _surface | -0.000 | 99.99%\n",
      "|    25 | :        | -0.000 | 100.00%\n",
      "|   220 |          | -0.000 | 99.97%\n",
      "|    15 | 0        | -0.002 | 99.81%\n",
      "|   198 | \n",
      "        | -0.000 | 100.00%\n",
      "|    77 | n        | -0.000 | 100.00%\n",
      "| 76037 | _rooms   | -0.000 | 100.00%\n",
      "|    25 | :        | 0.000 | 100.00%\n",
      "|   220 |          | -0.327 | 72.14%\n",
      "|    16 | 1        | -0.243 | 78.41%\n",
      "|   198 | \n",
      "        | -0.005 | 99.54%\n",
      "|    77 | n        | -0.000 | 100.00%\n",
      "|   880 | _b       | -0.000 | 99.99%\n",
      "|  6767 | eds      | -0.000 | 100.00%\n",
      "|    25 | :        | -0.000 | 100.00%\n",
      "|   220 |          | -0.001 | 99.90%\n",
      "|    16 | 1        | -0.033 | 96.80%\n"
     ]
    }
   ],
   "source": [
    "generated_tokens = tokenizer(data[index]['output'])['input_ids']\n",
    "for tok, score in zip(generated_tokens, data[index]['log_likelihoods']):\n",
    "    # | token | token string | log probability | probability\n",
    "    print(f\"| {tok:5d} | {tokenizer.decode(tok):8s} | {score:.3f} | {np.exp(score):.2%}\")"
   ]
  },
  {
   "cell_type": "code",
   "execution_count": null,
   "id": "b1e47a92-f669-4052-8ef9-46e2546b1181",
   "metadata": {},
   "outputs": [],
   "source": []
  },
  {
   "cell_type": "code",
   "execution_count": 13,
   "id": "d027e0c6-c8c3-40f3-b6f4-bfb8ea86c8d9",
   "metadata": {},
   "outputs": [
    {
     "data": {
      "text/plain": [
       "[28640,\n",
       " 261,\n",
       " 350,\n",
       " 17,\n",
       " 752,\n",
       " 392,\n",
       " 68228,\n",
       " 83771,\n",
       " 1062,\n",
       " 12559,\n",
       " 409,\n",
       " 308,\n",
       " 15477,\n",
       " 198,\n",
       " 1313,\n",
       " 25,\n",
       " 73656,\n",
       " 1114,\n",
       " 198,\n",
       " 6555,\n",
       " 25,\n",
       " 220,\n",
       " 21,\n",
       " 24,\n",
       " 15,\n",
       " 198,\n",
       " 8926,\n",
       " 25,\n",
       " 308,\n",
       " 15477,\n",
       " 198,\n",
       " 33170,\n",
       " 4136,\n",
       " 25,\n",
       " 220,\n",
       " 19,\n",
       " 19,\n",
       " 15,\n",
       " 15,\n",
       " 15,\n",
       " 198,\n",
       " 71,\n",
       " 31030,\n",
       " 25,\n",
       " 220,\n",
       " 19,\n",
       " 23,\n",
       " 198,\n",
       " 75,\n",
       " 31030,\n",
       " 25,\n",
       " 220,\n",
       " 15,\n",
       " 198,\n",
       " 77,\n",
       " 76037,\n",
       " 25,\n",
       " 220,\n",
       " 17,\n",
       " 198,\n",
       " 77,\n",
       " 880,\n",
       " 6767,\n",
       " 25,\n",
       " 220,\n",
       " 16]"
      ]
     },
     "execution_count": 13,
     "metadata": {},
     "output_type": "execute_result"
    }
   ],
   "source": [
    "generated_tokens"
   ]
  }
 ],
 "metadata": {
  "kernelspec": {
   "display_name": "Python 3 (ipykernel)",
   "language": "python",
   "name": "python3"
  },
  "language_info": {
   "codemirror_mode": {
    "name": "ipython",
    "version": 3
   },
   "file_extension": ".py",
   "mimetype": "text/x-python",
   "name": "python",
   "nbconvert_exporter": "python",
   "pygments_lexer": "ipython3",
   "version": "3.10.13"
  }
 },
 "nbformat": 4,
 "nbformat_minor": 5
}
